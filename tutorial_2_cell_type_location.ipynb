{
 "cells": [
  {
   "cell_type": "markdown",
   "metadata": {},
   "source": [
    "# **Get the locations where a cell type is found**"
   ]
  },
  {
   "cell_type": "markdown",
   "metadata": {},
   "source": [
    "This tutorial demonstrates the process of displaying the location/organ where a cell type is found using our AtlasApprox API. In this guide, we will walk you through the step-by-step methodology required to compute and visualize gene expression data.\n",
    "\n",
    "For all the examples under, we use the macrophage in human as examples."
   ]
  },
  {
   "cell_type": "markdown",
   "metadata": {},
   "source": [
    "## **Requirments**"
   ]
  },
  {
   "cell_type": "markdown",
   "metadata": {},
   "source": [
    "You need the following Python packages:\n",
    "- <span style=\"color:red\">requests</span>\n",
    "- <span style=\"color:red\">pandas</span>"
   ]
  },
  {
   "cell_type": "markdown",
   "metadata": {},
   "source": [
    "## **Installation**"
   ]
  },
  {
   "cell_type": "markdown",
   "metadata": {},
   "source": [
    "please use *pip* to install the atlasapprox package:"
   ]
  },
  {
   "cell_type": "code",
   "execution_count": 9,
   "metadata": {},
   "outputs": [
    {
     "name": "stdout",
     "output_type": "stream",
     "text": [
      "Requirement already satisfied: atlasapprox in ./atlasapprox_tutorial/lib/python3.12/site-packages (0.2.0)\n",
      "Requirement already satisfied: requests in ./atlasapprox_tutorial/lib/python3.12/site-packages (from atlasapprox) (2.32.3)\n",
      "Requirement already satisfied: pandas in ./atlasapprox_tutorial/lib/python3.12/site-packages (from atlasapprox) (2.2.2)\n",
      "Requirement already satisfied: numpy>=1.26.0 in ./atlasapprox_tutorial/lib/python3.12/site-packages (from pandas->atlasapprox) (2.0.1)\n",
      "Requirement already satisfied: python-dateutil>=2.8.2 in ./atlasapprox_tutorial/lib/python3.12/site-packages (from pandas->atlasapprox) (2.9.0.post0)\n",
      "Requirement already satisfied: pytz>=2020.1 in ./atlasapprox_tutorial/lib/python3.12/site-packages (from pandas->atlasapprox) (2024.1)\n",
      "Requirement already satisfied: tzdata>=2022.7 in ./atlasapprox_tutorial/lib/python3.12/site-packages (from pandas->atlasapprox) (2024.1)\n",
      "Requirement already satisfied: charset-normalizer<4,>=2 in ./atlasapprox_tutorial/lib/python3.12/site-packages (from requests->atlasapprox) (3.3.2)\n",
      "Requirement already satisfied: idna<4,>=2.5 in ./atlasapprox_tutorial/lib/python3.12/site-packages (from requests->atlasapprox) (3.7)\n",
      "Requirement already satisfied: urllib3<3,>=1.21.1 in ./atlasapprox_tutorial/lib/python3.12/site-packages (from requests->atlasapprox) (2.2.2)\n",
      "Requirement already satisfied: certifi>=2017.4.17 in ./atlasapprox_tutorial/lib/python3.12/site-packages (from requests->atlasapprox) (2024.7.4)\n",
      "Requirement already satisfied: six>=1.5 in ./atlasapprox_tutorial/lib/python3.12/site-packages (from python-dateutil>=2.8.2->pandas->atlasapprox) (1.16.0)\n",
      "\n",
      "\u001b[1m[\u001b[0m\u001b[34;49mnotice\u001b[0m\u001b[1;39;49m]\u001b[0m\u001b[39;49m A new release of pip is available: \u001b[0m\u001b[31;49m24.0\u001b[0m\u001b[39;49m -> \u001b[0m\u001b[32;49m24.2\u001b[0m\n",
      "\u001b[1m[\u001b[0m\u001b[34;49mnotice\u001b[0m\u001b[1;39;49m]\u001b[0m\u001b[39;49m To update, run: \u001b[0m\u001b[32;49mpip install --upgrade pip\u001b[0m\n",
      "Note: you may need to restart the kernel to use updated packages.\n"
     ]
    }
   ],
   "source": [
    "pip install atlasapprox"
   ]
  },
  {
   "cell_type": "markdown",
   "metadata": {},
   "source": [
    "Import atlasapprox and pandas."
   ]
  },
  {
   "cell_type": "code",
   "execution_count": 8,
   "metadata": {},
   "outputs": [],
   "source": [
    "import atlasapprox\n",
    "import pandas as pd"
   ]
  },
  {
   "cell_type": "markdown",
   "metadata": {},
   "source": [
    "## **Get started**"
   ]
  },
  {
   "cell_type": "markdown",
   "metadata": {},
   "source": [
    "First, instantiate the API object:"
   ]
  },
  {
   "cell_type": "code",
   "execution_count": 5,
   "metadata": {},
   "outputs": [],
   "source": [
    "api = atlasapprox.API()"
   ]
  },
  {
   "cell_type": "markdown",
   "metadata": {},
   "source": [
    "To get the organs/locations where a cell type is found, we need the following parameters:\n",
    "\n",
    "- organism (the organism to query).\n",
    "\n",
    "- cell_type (The cell type to get markers for).\n",
    "\n",
    "- measurement_type."
   ]
  },
  {
   "cell_type": "code",
   "execution_count": 16,
   "metadata": {},
   "outputs": [
    {
     "data": {
      "text/html": [
       "<div>\n",
       "<style scoped>\n",
       "    .dataframe tbody tr th:only-of-type {\n",
       "        vertical-align: middle;\n",
       "    }\n",
       "\n",
       "    .dataframe tbody tr th {\n",
       "        vertical-align: top;\n",
       "    }\n",
       "\n",
       "    .dataframe thead th {\n",
       "        text-align: right;\n",
       "    }\n",
       "</style>\n",
       "<table border=\"1\" class=\"dataframe\">\n",
       "  <thead>\n",
       "    <tr style=\"text-align: right;\">\n",
       "      <th></th>\n",
       "      <th>Organs</th>\n",
       "    </tr>\n",
       "  </thead>\n",
       "  <tbody>\n",
       "    <tr>\n",
       "      <th>1</th>\n",
       "      <td>bladder</td>\n",
       "    </tr>\n",
       "    <tr>\n",
       "      <th>2</th>\n",
       "      <td>blood</td>\n",
       "    </tr>\n",
       "    <tr>\n",
       "      <th>3</th>\n",
       "      <td>eye</td>\n",
       "    </tr>\n",
       "    <tr>\n",
       "      <th>4</th>\n",
       "      <td>fat</td>\n",
       "    </tr>\n",
       "    <tr>\n",
       "      <th>5</th>\n",
       "      <td>heart</td>\n",
       "    </tr>\n",
       "    <tr>\n",
       "      <th>6</th>\n",
       "      <td>kidney</td>\n",
       "    </tr>\n",
       "    <tr>\n",
       "      <th>7</th>\n",
       "      <td>liver</td>\n",
       "    </tr>\n",
       "    <tr>\n",
       "      <th>8</th>\n",
       "      <td>lung</td>\n",
       "    </tr>\n",
       "    <tr>\n",
       "      <th>9</th>\n",
       "      <td>lymphnode</td>\n",
       "    </tr>\n",
       "    <tr>\n",
       "      <th>10</th>\n",
       "      <td>mammary</td>\n",
       "    </tr>\n",
       "    <tr>\n",
       "      <th>11</th>\n",
       "      <td>marrow</td>\n",
       "    </tr>\n",
       "    <tr>\n",
       "      <th>12</th>\n",
       "      <td>muscle</td>\n",
       "    </tr>\n",
       "    <tr>\n",
       "      <th>13</th>\n",
       "      <td>prostate</td>\n",
       "    </tr>\n",
       "    <tr>\n",
       "      <th>14</th>\n",
       "      <td>salivary</td>\n",
       "    </tr>\n",
       "    <tr>\n",
       "      <th>15</th>\n",
       "      <td>skin</td>\n",
       "    </tr>\n",
       "    <tr>\n",
       "      <th>16</th>\n",
       "      <td>spleen</td>\n",
       "    </tr>\n",
       "    <tr>\n",
       "      <th>17</th>\n",
       "      <td>thymus</td>\n",
       "    </tr>\n",
       "    <tr>\n",
       "      <th>18</th>\n",
       "      <td>tongue</td>\n",
       "    </tr>\n",
       "    <tr>\n",
       "      <th>19</th>\n",
       "      <td>trachea</td>\n",
       "    </tr>\n",
       "    <tr>\n",
       "      <th>20</th>\n",
       "      <td>uterus</td>\n",
       "    </tr>\n",
       "  </tbody>\n",
       "</table>\n",
       "</div>"
      ],
      "text/plain": [
       "       Organs\n",
       "1     bladder\n",
       "2       blood\n",
       "3         eye\n",
       "4         fat\n",
       "5       heart\n",
       "6      kidney\n",
       "7       liver\n",
       "8        lung\n",
       "9   lymphnode\n",
       "10    mammary\n",
       "11     marrow\n",
       "12     muscle\n",
       "13   prostate\n",
       "14   salivary\n",
       "15       skin\n",
       "16     spleen\n",
       "17     thymus\n",
       "18     tongue\n",
       "19    trachea\n",
       "20     uterus"
      ]
     },
     "execution_count": 16,
     "metadata": {},
     "output_type": "execute_result"
    }
   ],
   "source": [
    "celltype_lacation = api.celltype_location(\n",
    "    organism = \"h_sapiens\",\n",
    "    cell_type =  \"macrophage\", \n",
    "    measurement_type = \"gene_expression\"\n",
    ")\n",
    "\n",
    "df_organs = pd.DataFrame(celltype_lacation, columns=['Organs'])\n",
    "df_organs.index = df_organs.index + 1\n",
    "\n",
    "df_organs"
   ]
  },
  {
   "cell_type": "markdown",
   "metadata": {},
   "source": [
    "This code returns a pandas.DataFrame containing a list of organs that include macrophages."
   ]
  },
  {
   "cell_type": "markdown",
   "metadata": {},
   "source": [
    "## **Useful methods**"
   ]
  },
  {
   "cell_type": "markdown",
   "metadata": {},
   "source": [
    "### **search if a specific organ is included**"
   ]
  },
  {
   "cell_type": "code",
   "execution_count": 25,
   "metadata": {},
   "outputs": [
    {
     "data": {
      "text/html": [
       "<div>\n",
       "<style scoped>\n",
       "    .dataframe tbody tr th:only-of-type {\n",
       "        vertical-align: middle;\n",
       "    }\n",
       "\n",
       "    .dataframe tbody tr th {\n",
       "        vertical-align: top;\n",
       "    }\n",
       "\n",
       "    .dataframe thead th {\n",
       "        text-align: right;\n",
       "    }\n",
       "</style>\n",
       "<table border=\"1\" class=\"dataframe\">\n",
       "  <thead>\n",
       "    <tr style=\"text-align: right;\">\n",
       "      <th></th>\n",
       "      <th>Organs</th>\n",
       "    </tr>\n",
       "  </thead>\n",
       "  <tbody>\n",
       "    <tr>\n",
       "      <th>9</th>\n",
       "      <td>lymphnode</td>\n",
       "    </tr>\n",
       "  </tbody>\n",
       "</table>\n",
       "</div>"
      ],
      "text/plain": [
       "      Organs\n",
       "9  lymphnode"
      ]
     },
     "execution_count": 25,
     "metadata": {},
     "output_type": "execute_result"
    }
   ],
   "source": [
    "# Search for a specific string in the 'Organs' column\n",
    "search_organ = 'lymphnode'\n",
    "\n",
    "# map the target organ, if it is in the list, return organ name.\n",
    "mask = df_organs.map(lambda x: search_organ in str(x))\n",
    "display_result = df_organs[mask.any(axis=1)]\n",
    "\n",
    "display_result"
   ]
  }
 ],
 "metadata": {
  "kernelspec": {
   "display_name": "Python 3",
   "language": "python",
   "name": "python3"
  },
  "language_info": {
   "codemirror_mode": {
    "name": "ipython",
    "version": 3
   },
   "file_extension": ".py",
   "mimetype": "text/x-python",
   "name": "python",
   "nbconvert_exporter": "python",
   "pygments_lexer": "ipython3",
   "version": "3.12.4"
  }
 },
 "nbformat": 4,
 "nbformat_minor": 2
}
