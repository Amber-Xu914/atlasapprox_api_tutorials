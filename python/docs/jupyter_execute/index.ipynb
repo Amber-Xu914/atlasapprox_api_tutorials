{
 "cells": [
  {
   "cell_type": "code",
   "execution_count": 1,
   "id": "e420f13e",
   "metadata": {
    "execution": {
     "iopub.execute_input": "2024-11-08T07:12:32.060570Z",
     "iopub.status.busy": "2024-11-08T07:12:32.060377Z",
     "iopub.status.idle": "2024-11-08T07:12:32.068660Z",
     "shell.execute_reply": "2024-11-08T07:12:32.068272Z"
    }
   },
   "outputs": [
    {
     "name": "stdout",
     "output_type": "stream",
     "text": [
      "15\n"
     ]
    }
   ],
   "source": [
    "x = 5\n",
    "y = 10\n",
    "result = x + y\n",
    "print(result)"
   ]
  }
 ],
 "metadata": {
  "kernelspec": {
   "display_name": "Python 3 (ipykernel)",
   "language": "python",
   "name": "python3"
  },
  "language_info": {
   "codemirror_mode": {
    "name": "ipython",
    "version": 3
   },
   "file_extension": ".py",
   "mimetype": "text/x-python",
   "name": "python",
   "nbconvert_exporter": "python",
   "pygments_lexer": "ipython3",
   "version": "3.10.1"
  }
 },
 "nbformat": 4,
 "nbformat_minor": 5
}