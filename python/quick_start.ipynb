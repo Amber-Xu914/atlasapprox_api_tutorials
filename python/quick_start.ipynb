{
 "cells": [
  {
   "cell_type": "markdown",
   "metadata": {},
   "source": [
    "# **Quick start: atlasapprox in Python**"
   ]
  },
  {
   "cell_type": "markdown",
   "metadata": {},
   "source": [
    "The [*atlasapprox*](https://atlasapprox.readthedocs.io/en/latest/index.html) API provides access to approximated single-cell data across 28 species, including both animals and plants. You can explore data from species such as *Homo sapiens* (humans), *Mus musculus* (mice), *Arabidopsis thaliana* (thale cress), and *Zea mays* (corn). Follow this guide to get started with installation, basic usage, and example queries."
   ]
  },
  {
   "cell_type": "markdown",
   "metadata": {},
   "source": [
    "### **Create virtual environment**"
   ]
  },
  {
   "cell_type": "markdown",
   "metadata": {},
   "source": [
    "To ensure consistent dependencies, setting up a virtual environment is recommended before installing the package. Here's one way to do it:"
   ]
  },
  {
   "cell_type": "code",
   "execution_count": null,
   "metadata": {},
   "outputs": [],
   "source": [
    "# Create a virtual environment\n",
    "python -m venv myenv\n",
    "\n",
    "# Activate your environment (use the appropriate command for your OS)\n",
    "\n",
    "# For macOS/Linux users\n",
    "source myenv/bin/activate\n",
    "\n",
    "# For Windows users\n",
    "myenv\\Scripts\\activate "
   ]
  },
  {
   "cell_type": "markdown",
   "metadata": {},
   "source": [
    "### **Installation**"
   ]
  },
  {
   "cell_type": "markdown",
   "metadata": {},
   "source": [
    "Use *pip* to install the *atlasapprox* Python package:"
   ]
  },
  {
   "cell_type": "code",
   "execution_count": 2,
   "metadata": {},
   "outputs": [
    {
     "name": "stdout",
     "output_type": "stream",
     "text": [
      "Requirement already satisfied: atlasapprox in /Users/xuxinyi/Desktop/AtlasApproxTut /cjenv/lib/python3.10/site-packages (0.2.4)\n",
      "Requirement already satisfied: requests in /Users/xuxinyi/Desktop/AtlasApproxTut /cjenv/lib/python3.10/site-packages (from atlasapprox) (2.32.3)\n",
      "Requirement already satisfied: numpy in /Users/xuxinyi/Desktop/AtlasApproxTut /cjenv/lib/python3.10/site-packages (from atlasapprox) (1.23.0)\n",
      "Requirement already satisfied: pandas in /Users/xuxinyi/Desktop/AtlasApproxTut /cjenv/lib/python3.10/site-packages (from atlasapprox) (2.2.3)\n",
      "Requirement already satisfied: python-dateutil>=2.8.2 in /Users/xuxinyi/Desktop/AtlasApproxTut /cjenv/lib/python3.10/site-packages (from pandas->atlasapprox) (2.9.0.post0)\n",
      "Requirement already satisfied: pytz>=2020.1 in /Users/xuxinyi/Desktop/AtlasApproxTut /cjenv/lib/python3.10/site-packages (from pandas->atlasapprox) (2024.2)\n",
      "Requirement already satisfied: tzdata>=2022.7 in /Users/xuxinyi/Desktop/AtlasApproxTut /cjenv/lib/python3.10/site-packages (from pandas->atlasapprox) (2024.2)\n",
      "Requirement already satisfied: charset-normalizer<4,>=2 in /Users/xuxinyi/Desktop/AtlasApproxTut /cjenv/lib/python3.10/site-packages (from requests->atlasapprox) (3.4.0)\n",
      "Requirement already satisfied: idna<4,>=2.5 in /Users/xuxinyi/Desktop/AtlasApproxTut /cjenv/lib/python3.10/site-packages (from requests->atlasapprox) (3.10)\n",
      "Requirement already satisfied: urllib3<3,>=1.21.1 in /Users/xuxinyi/Desktop/AtlasApproxTut /cjenv/lib/python3.10/site-packages (from requests->atlasapprox) (2.2.3)\n",
      "Requirement already satisfied: certifi>=2017.4.17 in /Users/xuxinyi/Desktop/AtlasApproxTut /cjenv/lib/python3.10/site-packages (from requests->atlasapprox) (2024.8.30)\n",
      "Requirement already satisfied: six>=1.5 in /Users/xuxinyi/Desktop/AtlasApproxTut /cjenv/lib/python3.10/site-packages (from python-dateutil>=2.8.2->pandas->atlasapprox) (1.16.0)\n",
      "\n",
      "\u001b[1m[\u001b[0m\u001b[34;49mnotice\u001b[0m\u001b[1;39;49m]\u001b[0m\u001b[39;49m A new release of pip is available: \u001b[0m\u001b[31;49m24.3.1\u001b[0m\u001b[39;49m -> \u001b[0m\u001b[32;49m25.0.1\u001b[0m\n",
      "\u001b[1m[\u001b[0m\u001b[34;49mnotice\u001b[0m\u001b[1;39;49m]\u001b[0m\u001b[39;49m To update, run: \u001b[0m\u001b[32;49mpip install --upgrade pip\u001b[0m\n",
      "Note: you may need to restart the kernel to use updated packages.\n"
     ]
    }
   ],
   "source": [
    "pip install atlasapprox"
   ]
  },
  {
   "cell_type": "markdown",
   "metadata": {},
   "source": [
    "### **Initialize the API**"
   ]
  },
  {
   "cell_type": "markdown",
   "metadata": {},
   "source": [
    "Import the *atlasapprox* Python package and create an API object:"
   ]
  },
  {
   "cell_type": "code",
   "execution_count": 5,
   "metadata": {},
   "outputs": [
    {
     "name": "stdout",
     "output_type": "stream",
     "text": [
      "Data sources for the approximations:\n",
      "\n",
      "Animals:\n",
      "- Homo sapiens (human):\n",
      "  - RNA: Tabula Sapiens (https://www.science.org/doi/10.1126/science.abl4896)\n",
      "  - ATAC: Zhang et al. 2021 (https://doi.org/10.1016/j.cell.2021.10.024)\n",
      "- Mus musculus (mouse): Tabula Muris Senis (https://www.nature.com/articles/s41586-020-2496-1)\n",
      "- Microcebus murinus (mouse lemur): Tabula Microcebus (https://www.biorxiv.org/content/10.1101/2021.12.12.469460v2)\n",
      "- Caenorhabditis elegans: Cao et al. 2017 (https://www.science.org/doi/10.1126/science.aam8940)\n",
      "- Crassostrea gigas: Piovani et al. 2023 (https://doi.org/10.1126/sciadv.adg6034)\n",
      "- Danio rerio (zebrafish): Wagner et al. 2018 (https://www.science.org/doi/10.1126/science.aar4362)\n",
      "- Clytia hemisphaerica: Chari et al. 2021 (https://www.science.org/doi/10.1126/sciadv.abh1683#sec-4)\n",
      "- Drosophila melanogaster (fruitfly): Li et al. 2022 (https://doi.org/10.1126/science.abk2432\n",
      "- Hofstenia miamia: Hulett et al. 2023 (https://www.nature.com/articles/s41467-023-38016-4)\n",
      "- Isodiametra pulchra: Duruz et al. 2020 (https://academic.oup.com/mbe/article/38/5/1888/6045962)\n",
      "- Mnemiopsis leidyi: Sebé-Pedrós et al 2018 (https://www.nature.com/articles/s41559-018-0575-6)\n",
      "- Nematostella vectensis: Steger et al 2022 (https://doi.org/10.1016/j.celrep.2022.111370)\n",
      "- Prostheceraeus crozieri: Piovani et al. 2023 (https://doi.org/10.1126/sciadv.adg6034)\n",
      "- Platynereis dumerilii: Achim et al 2017 (https://academic.oup.com/mbe/article/35/5/1047/4823215)\n",
      "- Strongylocentrotus purpuratus (sea urchin): Paganos et al. 2021 (https://doi.org/10.7554/eLife.70416)\n",
      "- Spongilla lacustris: Musser et al. 2021 (https://www.science.org/doi/10.1126/science.abj2949)\n",
      "- Schistosoma mansoni: Li et al. 2021 (https://www.nature.com/articles/s41467-020-20794-w)\n",
      "- Schmidtea mediterranea: Plass et al. 2018 (https://doi.org/10.1126/science.aaq1723)\n",
      "- Stylophora pistillata: Levi et al. 2021 (https://www.sciencedirect.com/science/article/pii/S0092867421004402)\n",
      "- Trichoplax adhaerens: Sebé-Pedrós et al 2018 (https://www.nature.com/articles/s41559-018-0575-6)\n",
      "- Xenopus laevis: Liao et al. 2022 (https://www.nature.com/articles/s41467-022-31949-2)\n",
      "\n",
      "Plants:\n",
      "- Arabidopsis thaliana: Shahan et al 2022 (https://www.sciencedirect.com/science/article/pii/S1534580722000338), Xu et al. 2024 (https://www.biorxiv.org/content/10.1101/2024.03.04.583414v1)\n",
      "- Lemna minuta: Abramson et al. 2022 (https://doi.org/10.1093/plphys/kiab564)\n",
      "- Fragaria vesca: Bai et al. 2022 (https://doi.org/10.1093/hr/uhab055)\n",
      "- Oryza sativa: Zhang et al. 2022 (https://doi.org/10.1038/s41467-021-22352-4)\n",
      "- Triticum aestivum (wheat): Zhang et al 2023 (https://genomebiology.biomedcentral.com/articles/10.1186/s13059-023-02908-x)\n",
      "- Zea mays: Marand et al. 2021 (https://doi.org/10.1016/j.cell.2021.04.014)\n",
      "\n",
      "To hide this message, set the environment variable ATLASAPPROX_HIDECREDITS to any\n",
      "nonzero value, e.g.:\n",
      "\n",
      "import os\n",
      "os.environ[\"ATLASAPPROX_HIDECREDITS\"] = \"yes\"\n",
      "import atlasapprox\n",
      "\n",
      "To propose a new atlas be added to the list of approximations, please contact\n",
      "Fabio Zanini (fabio DOT zanini AT unsw DOT edu DOT au).\n"
     ]
    }
   ],
   "source": [
    "import atlasapprox\n",
    "\n",
    "api = atlasapprox.API()"
   ]
  },
  {
   "cell_type": "markdown",
   "metadata": {},
   "source": [
    "## **Getting average gene expression**"
   ]
  },
  {
   "cell_type": "markdown",
   "metadata": {},
   "source": [
    "The `average` function allows you to retrieve the average gene expression data for selected genes within an organism's specific organ.\n",
    "\n",
    "The following example shows how to examine the average expression of five genes (*COL13A1*, *COL14A1*, *TGFBI*, *PDGFRA*, *GZMA*) in the human lung:"
   ]
  },
  {
   "cell_type": "code",
   "execution_count": 16,
   "metadata": {},
   "outputs": [
    {
     "data": {
      "text/html": [
       "<div>\n",
       "<style scoped>\n",
       "    .dataframe tbody tr th:only-of-type {\n",
       "        vertical-align: middle;\n",
       "    }\n",
       "\n",
       "    .dataframe tbody tr th {\n",
       "        vertical-align: top;\n",
       "    }\n",
       "\n",
       "    .dataframe thead th {\n",
       "        text-align: right;\n",
       "    }\n",
       "</style>\n",
       "<table border=\"1\" class=\"dataframe\">\n",
       "  <thead>\n",
       "    <tr style=\"text-align: right;\">\n",
       "      <th></th>\n",
       "      <th>neutrophil</th>\n",
       "      <th>basophil</th>\n",
       "      <th>monocyte</th>\n",
       "      <th>macrophage</th>\n",
       "      <th>dendritic</th>\n",
       "      <th>B</th>\n",
       "      <th>plasma</th>\n",
       "      <th>T</th>\n",
       "      <th>NK</th>\n",
       "      <th>plasmacytoid</th>\n",
       "      <th>...</th>\n",
       "      <th>capillary</th>\n",
       "      <th>CAP2</th>\n",
       "      <th>lymphatic</th>\n",
       "      <th>fibroblast</th>\n",
       "      <th>alveolar fibroblast</th>\n",
       "      <th>smooth muscle</th>\n",
       "      <th>vascular smooth muscle</th>\n",
       "      <th>pericyte</th>\n",
       "      <th>mesothelial</th>\n",
       "      <th>ionocyte</th>\n",
       "    </tr>\n",
       "  </thead>\n",
       "  <tbody>\n",
       "    <tr>\n",
       "      <th>COL13A1</th>\n",
       "      <td>0.000000</td>\n",
       "      <td>0.222863</td>\n",
       "      <td>0.000000</td>\n",
       "      <td>0.000711</td>\n",
       "      <td>0.000000</td>\n",
       "      <td>0.000000</td>\n",
       "      <td>0.002205</td>\n",
       "      <td>0.000000</td>\n",
       "      <td>0.029147</td>\n",
       "      <td>0.000000</td>\n",
       "      <td>...</td>\n",
       "      <td>0.003937</td>\n",
       "      <td>0.000000</td>\n",
       "      <td>0.000000</td>\n",
       "      <td>0.005113</td>\n",
       "      <td>0.446961</td>\n",
       "      <td>0.000000</td>\n",
       "      <td>0.131642</td>\n",
       "      <td>0.067960</td>\n",
       "      <td>0.000000</td>\n",
       "      <td>0.000000</td>\n",
       "    </tr>\n",
       "    <tr>\n",
       "      <th>COL14A1</th>\n",
       "      <td>0.000000</td>\n",
       "      <td>0.000000</td>\n",
       "      <td>0.001422</td>\n",
       "      <td>0.001362</td>\n",
       "      <td>0.000000</td>\n",
       "      <td>0.000000</td>\n",
       "      <td>0.002607</td>\n",
       "      <td>0.000000</td>\n",
       "      <td>0.000000</td>\n",
       "      <td>0.000000</td>\n",
       "      <td>...</td>\n",
       "      <td>0.007525</td>\n",
       "      <td>0.026666</td>\n",
       "      <td>0.059648</td>\n",
       "      <td>1.110076</td>\n",
       "      <td>1.226022</td>\n",
       "      <td>1.033389</td>\n",
       "      <td>2.108460</td>\n",
       "      <td>0.033580</td>\n",
       "      <td>0.000000</td>\n",
       "      <td>0.000000</td>\n",
       "    </tr>\n",
       "    <tr>\n",
       "      <th>TGFBI</th>\n",
       "      <td>0.065150</td>\n",
       "      <td>0.111107</td>\n",
       "      <td>1.802062</td>\n",
       "      <td>1.252701</td>\n",
       "      <td>2.190132</td>\n",
       "      <td>0.000000</td>\n",
       "      <td>0.083882</td>\n",
       "      <td>0.100460</td>\n",
       "      <td>0.326610</td>\n",
       "      <td>4.492828</td>\n",
       "      <td>...</td>\n",
       "      <td>0.045932</td>\n",
       "      <td>0.067610</td>\n",
       "      <td>0.521915</td>\n",
       "      <td>0.393191</td>\n",
       "      <td>0.175393</td>\n",
       "      <td>0.311884</td>\n",
       "      <td>0.258512</td>\n",
       "      <td>0.119010</td>\n",
       "      <td>0.404976</td>\n",
       "      <td>0.032419</td>\n",
       "    </tr>\n",
       "    <tr>\n",
       "      <th>PDGFRA</th>\n",
       "      <td>0.000000</td>\n",
       "      <td>0.000000</td>\n",
       "      <td>0.000965</td>\n",
       "      <td>0.002414</td>\n",
       "      <td>0.003172</td>\n",
       "      <td>0.000000</td>\n",
       "      <td>0.000000</td>\n",
       "      <td>0.005035</td>\n",
       "      <td>0.000000</td>\n",
       "      <td>0.000000</td>\n",
       "      <td>...</td>\n",
       "      <td>0.011427</td>\n",
       "      <td>0.002920</td>\n",
       "      <td>0.000000</td>\n",
       "      <td>1.772957</td>\n",
       "      <td>3.724075</td>\n",
       "      <td>0.128634</td>\n",
       "      <td>0.059852</td>\n",
       "      <td>0.000000</td>\n",
       "      <td>0.332479</td>\n",
       "      <td>0.000000</td>\n",
       "    </tr>\n",
       "    <tr>\n",
       "      <th>GZMA</th>\n",
       "      <td>0.013437</td>\n",
       "      <td>0.142837</td>\n",
       "      <td>0.174047</td>\n",
       "      <td>0.029326</td>\n",
       "      <td>0.020453</td>\n",
       "      <td>0.025113</td>\n",
       "      <td>0.063292</td>\n",
       "      <td>9.006065</td>\n",
       "      <td>19.687157</td>\n",
       "      <td>0.000000</td>\n",
       "      <td>...</td>\n",
       "      <td>0.044351</td>\n",
       "      <td>0.042996</td>\n",
       "      <td>0.073877</td>\n",
       "      <td>0.029919</td>\n",
       "      <td>0.081036</td>\n",
       "      <td>0.119041</td>\n",
       "      <td>0.000000</td>\n",
       "      <td>0.460141</td>\n",
       "      <td>0.044982</td>\n",
       "      <td>0.058806</td>\n",
       "    </tr>\n",
       "  </tbody>\n",
       "</table>\n",
       "<p>5 rows × 30 columns</p>\n",
       "</div>"
      ],
      "text/plain": [
       "         neutrophil  basophil  monocyte  macrophage  dendritic         B  \\\n",
       "COL13A1    0.000000  0.222863  0.000000    0.000711   0.000000  0.000000   \n",
       "COL14A1    0.000000  0.000000  0.001422    0.001362   0.000000  0.000000   \n",
       "TGFBI      0.065150  0.111107  1.802062    1.252701   2.190132  0.000000   \n",
       "PDGFRA     0.000000  0.000000  0.000965    0.002414   0.003172  0.000000   \n",
       "GZMA       0.013437  0.142837  0.174047    0.029326   0.020453  0.025113   \n",
       "\n",
       "           plasma         T         NK  plasmacytoid  ...  capillary  \\\n",
       "COL13A1  0.002205  0.000000   0.029147      0.000000  ...   0.003937   \n",
       "COL14A1  0.002607  0.000000   0.000000      0.000000  ...   0.007525   \n",
       "TGFBI    0.083882  0.100460   0.326610      4.492828  ...   0.045932   \n",
       "PDGFRA   0.000000  0.005035   0.000000      0.000000  ...   0.011427   \n",
       "GZMA     0.063292  9.006065  19.687157      0.000000  ...   0.044351   \n",
       "\n",
       "             CAP2  lymphatic  fibroblast  alveolar fibroblast  smooth muscle  \\\n",
       "COL13A1  0.000000   0.000000    0.005113             0.446961       0.000000   \n",
       "COL14A1  0.026666   0.059648    1.110076             1.226022       1.033389   \n",
       "TGFBI    0.067610   0.521915    0.393191             0.175393       0.311884   \n",
       "PDGFRA   0.002920   0.000000    1.772957             3.724075       0.128634   \n",
       "GZMA     0.042996   0.073877    0.029919             0.081036       0.119041   \n",
       "\n",
       "         vascular smooth muscle  pericyte  mesothelial  ionocyte  \n",
       "COL13A1                0.131642  0.067960     0.000000  0.000000  \n",
       "COL14A1                2.108460  0.033580     0.000000  0.000000  \n",
       "TGFBI                  0.258512  0.119010     0.404976  0.032419  \n",
       "PDGFRA                 0.059852  0.000000     0.332479  0.000000  \n",
       "GZMA                   0.000000  0.460141     0.044982  0.058806  \n",
       "\n",
       "[5 rows x 30 columns]"
      ]
     },
     "execution_count": 16,
     "metadata": {},
     "output_type": "execute_result"
    }
   ],
   "source": [
    "# Call API function with params\n",
    "avg_gene_expr_lung = api.average(\n",
    "    organism = \"h_sapiens\", \n",
    "    organ = \"lung\", \n",
    "    features = [\"COL13A1\", \"COL14A1\", \"TGFBI\", \"PDGFRA\", \"GZMA\"], \n",
    "    measurement_type = \"gene_expression\"\n",
    ")\n",
    "\n",
    "# Display the result\n",
    "avg_gene_expr_lung"
   ]
  },
  {
   "cell_type": "markdown",
   "metadata": {},
   "source": [
    "### **Output**\n",
    "The function returns a *Pandas DataFrame* where:\n",
    "* Each row represents a gene.  \n",
    "* Each column corresponds to a cell type.\n",
    "* The values indicate the average gene expression (measured in counts per ten thousand, or cptt)."
   ]
  },
  {
   "cell_type": "markdown",
   "metadata": {},
   "source": [
    "## **Start from scratch**"
   ]
  },
  {
   "cell_type": "markdown",
   "metadata": {},
   "source": [
    "If you're starting from scratch, the following steps will help you explore the API."
   ]
  },
  {
   "cell_type": "markdown",
   "metadata": {},
   "source": [
    "1. Ask about available organisms:"
   ]
  },
  {
   "cell_type": "code",
   "execution_count": 8,
   "metadata": {},
   "outputs": [
    {
     "name": "stdout",
     "output_type": "stream",
     "text": [
      "{'gene_expression': ['a_queenslandica', 'a_thaliana', 'c_elegans', 'c_gigas', 'c_hemisphaerica', 'c_intestinalis', 'd_melanogaster', 'd_rerio', 'f_vesca', 'h_miamia', 'h_sapiens', 'h_vulgaris', 'i_pulchra', 'l_minuta', 'm_leidyi', 'm_murinus', 'm_musculus', 'n_vectensis', 'o_sativa', 'p_crozieri', 'p_dumerilii', 's_lacustris', 's_mansoni', 's_mediterranea', 's_pistillata', 's_purpuratus', 't_adhaerens', 't_aestivum', 'x_laevis', 'z_mays']}\n"
     ]
    }
   ],
   "source": [
    "organisms = api.organisms()\n",
    "print(organisms)"
   ]
  },
  {
   "cell_type": "markdown",
   "metadata": {},
   "source": [
    "2. Ask about available organs within your organism of interest:"
   ]
  },
  {
   "cell_type": "code",
   "execution_count": null,
   "metadata": {},
   "outputs": [],
   "source": [
    "organs = api.organs(organism=\"h_sapiens\")\n",
    "print(organs)"
   ]
  },
  {
   "cell_type": "markdown",
   "metadata": {},
   "source": [
    "3. Ask about available cell types within your organism and organ of interest:"
   ]
  },
  {
   "cell_type": "code",
   "execution_count": 7,
   "metadata": {},
   "outputs": [
    {
     "name": "stdout",
     "output_type": "stream",
     "text": [
      "['neutrophil', 'basophil', 'monocyte', 'macrophage', 'dendritic', 'B', 'plasma', 'T', 'NK', 'plasmacytoid', 'goblet', 'AT1', 'AT2', 'club', 'ciliated', 'basal', 'serous', 'mucous', 'arterial', 'venous', 'capillary', 'CAP2', 'lymphatic', 'fibroblast', 'alveolar fibroblast', 'smooth muscle', 'vascular smooth muscle', 'pericyte', 'mesothelial', 'ionocyte']\n"
     ]
    }
   ],
   "source": [
    "cell_types = api.celltypes(organism=\"h_sapiens\", organ=\"lung\", measurement_type = \"gene_expression\")\n",
    "print(cell_types)"
   ]
  },
  {
   "cell_type": "markdown",
   "metadata": {},
   "source": [
    "## **More tutorials (coming soon)**\n",
    "- average gene expression\n",
    "- cell type abundance\n",
    "- highest measurements by cell type across an organism\n",
    "- marker genes\n",
    "- gene coexpression\n",
    "- gene homologs\n",
    "- neighborhoods\n",
    "- gene interaction partners\n",
    "- ..."
   ]
  },
  {
   "cell_type": "markdown",
   "metadata": {},
   "source": [
    "## **Conclusion**"
   ]
  },
  {
   "cell_type": "markdown",
   "metadata": {},
   "source": [
    "This tutorial provided a quick start guide to use the *atlasapprox* Python package. For more detailed information, refer to the official [documentation](https://atlasapprox.readthedocs.io/en/latest/python/index.html). "
   ]
  }
 ],
 "metadata": {
  "kernelspec": {
   "display_name": "cjenv",
   "language": "python",
   "name": "python3"
  },
  "language_info": {
   "codemirror_mode": {
    "name": "ipython",
    "version": 3
   },
   "file_extension": ".py",
   "mimetype": "text/x-python",
   "name": "python",
   "nbconvert_exporter": "python",
   "pygments_lexer": "ipython3",
   "version": "3.10.1"
  }
 },
 "nbformat": 4,
 "nbformat_minor": 2
}
