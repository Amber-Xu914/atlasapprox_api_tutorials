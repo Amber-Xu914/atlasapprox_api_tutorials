{
 "cells": [
  {
   "cell_type": "code",
   "execution_count": null,
   "metadata": {},
   "outputs": [],
   "source": [
    "import atlasapprox\n",
    "\n",
    "api = atlasapprox.API()"
   ]
  },
  {
   "cell_type": "markdown",
   "metadata": {},
   "source": [
    "## **Start from scratch**"
   ]
  },
  {
   "cell_type": "markdown",
   "metadata": {},
   "source": [
    "## start exploring with atlasapprox api"
   ]
  },
  {
   "cell_type": "markdown",
   "metadata": {},
   "source": [
    "The API provides several methods to display all available organisms, organs, and cell types. If you're starting from scratch, the following steps will guide you in exploring the API."
   ]
  },
  {
   "cell_type": "markdown",
   "metadata": {},
   "source": [
    "### 1. Get available organisms"
   ]
  },
  {
   "cell_type": "markdown",
   "metadata": {},
   "source": [
    "The following example demonstrates how to retrieve a list of available organisms from the API. "
   ]
  },
  {
   "cell_type": "code",
   "execution_count": 6,
   "metadata": {},
   "outputs": [
    {
     "data": {
      "text/plain": [
       "{'gene_expression': ['a_queenslandica',\n",
       "  'a_thaliana',\n",
       "  'c_elegans',\n",
       "  'c_gigas',\n",
       "  'c_hemisphaerica',\n",
       "  'd_melanogaster',\n",
       "  'd_rerio',\n",
       "  'f_vesca',\n",
       "  'h_miamia',\n",
       "  'h_sapiens',\n",
       "  'i_pulchra',\n",
       "  'l_minuta',\n",
       "  'm_leidyi',\n",
       "  'm_murinus',\n",
       "  'm_musculus',\n",
       "  'n_vectensis',\n",
       "  'o_sativa',\n",
       "  'p_crozieri',\n",
       "  'p_dumerilii',\n",
       "  's_lacustris',\n",
       "  's_mansoni',\n",
       "  's_mediterranea',\n",
       "  's_pistillata',\n",
       "  's_purpuratus',\n",
       "  't_adhaerens',\n",
       "  't_aestivum',\n",
       "  'x_laevis',\n",
       "  'z_mays']}"
      ]
     },
     "metadata": {},
     "output_type": "display_data"
    }
   ],
   "source": [
    "organisms = api.organisms()\n",
    "\n",
    "display(organisms)"
   ]
  },
  {
   "cell_type": "markdown",
   "metadata": {},
   "source": [
    "### 2. Get available organs"
   ]
  },
  {
   "cell_type": "markdown",
   "metadata": {},
   "source": [
    "The following example demonstrates how to retrieve a list of available organs under chosen organism(*human*)."
   ]
  },
  {
   "cell_type": "code",
   "execution_count": 7,
   "metadata": {},
   "outputs": [
    {
     "data": {
      "text/plain": [
       "['bladder',\n",
       " 'blood',\n",
       " 'colon',\n",
       " 'eye',\n",
       " 'fat',\n",
       " 'gut',\n",
       " 'heart',\n",
       " 'kidney',\n",
       " 'liver',\n",
       " 'lung',\n",
       " 'lymphnode',\n",
       " 'mammary',\n",
       " 'marrow',\n",
       " 'muscle',\n",
       " 'pancreas',\n",
       " 'prostate',\n",
       " 'salivary',\n",
       " 'skin',\n",
       " 'spleen',\n",
       " 'thymus',\n",
       " 'tongue',\n",
       " 'trachea',\n",
       " 'uterus']"
      ]
     },
     "metadata": {},
     "output_type": "display_data"
    }
   ],
   "source": [
    "human_organs = api.organs(organism='h_sapiens')\n",
    "\n",
    "display(human_organs)"
   ]
  },
  {
   "cell_type": "markdown",
   "metadata": {},
   "source": [
    "### 3. Get available cell types"
   ]
  },
  {
   "cell_type": "markdown",
   "metadata": {},
   "source": [
    "The following example demonstrates how to retrieve a list of available cell types under chosen organism(*human*) and organ(*lung*)."
   ]
  },
  {
   "cell_type": "code",
   "execution_count": 8,
   "metadata": {},
   "outputs": [
    {
     "data": {
      "text/plain": [
       "['neutrophil',\n",
       " 'basophil',\n",
       " 'monocyte',\n",
       " 'macrophage',\n",
       " 'dendritic',\n",
       " 'B',\n",
       " 'plasma',\n",
       " 'T',\n",
       " 'NK',\n",
       " 'plasmacytoid',\n",
       " 'goblet',\n",
       " 'AT1',\n",
       " 'AT2',\n",
       " 'club',\n",
       " 'ciliated',\n",
       " 'basal',\n",
       " 'serous',\n",
       " 'mucous',\n",
       " 'arterial',\n",
       " 'venous',\n",
       " 'capillary',\n",
       " 'CAP2',\n",
       " 'lymphatic',\n",
       " 'fibroblast',\n",
       " 'alveolar fibroblast',\n",
       " 'smooth muscle',\n",
       " 'vascular smooth muscle',\n",
       " 'pericyte',\n",
       " 'mesothelial',\n",
       " 'ionocyte']"
      ]
     },
     "metadata": {},
     "output_type": "display_data"
    }
   ],
   "source": [
    "celltypes_human_lung = api.celltypes(organism='h_sapiens', organ='lung', measurement_type='gene_expression')\n",
    "\n",
    "display(celltypes_human_lung)"
   ]
  },
  {
   "cell_type": "markdown",
   "metadata": {},
   "source": [
    "### 4. Check available genes"
   ]
  },
  {
   "cell_type": "markdown",
   "metadata": {},
   "source": [
    "The following example takes an organism (*human*) as a parameter and returns whether the selected gene is available in the API."
   ]
  },
  {
   "cell_type": "code",
   "execution_count": 9,
   "metadata": {},
   "outputs": [
    {
     "name": "stdout",
     "output_type": "stream",
     "text": [
      "MTRNR2L12 gene is available in h_sapiens.\n"
     ]
    }
   ],
   "source": [
    "organism = 'h_sapiens'\n",
    "human_genes = api.features(organism=organism)\n",
    "aim_gene = 'MTRNR2L12'\n",
    "\n",
    "# case-insensitive searching\n",
    "if aim_gene.lower() in [element.lower() for element in human_genes]:\n",
    "    print(f'{aim_gene} gene is available in {organism}.')\n",
    "else:\n",
    "    print(f'{aim_gene} gene is NOT available in {organism}.')"
   ]
  }
 ],
 "metadata": {
  "kernelspec": {
   "display_name": "myenv",
   "language": "python",
   "name": "python3"
  },
  "language_info": {
   "codemirror_mode": {
    "name": "ipython",
    "version": 3
   },
   "file_extension": ".py",
   "mimetype": "text/x-python",
   "name": "python",
   "nbconvert_exporter": "python",
   "pygments_lexer": "ipython3",
   "version": "3.12.4"
  }
 },
 "nbformat": 4,
 "nbformat_minor": 2
}
