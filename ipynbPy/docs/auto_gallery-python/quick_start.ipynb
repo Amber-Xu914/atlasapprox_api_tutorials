{
  "cells": [
    {
      "cell_type": "markdown",
      "metadata": {},
      "source": [
        "\n# SyntaxError\n\nExample script with invalid Python syntax\n\n"
      ]
    },
    {
      "cell_type": "code",
      "execution_count": null,
      "metadata": {
        "collapsed": false
      },
      "outputs": [],
      "source": [
        "\"\"\"\nQuick start: atlasapprox in Python\n===================\n\nThis example demonstrates how to use the AtlasApprox API.\n\n\"\"\""
      ]
    },
    {
      "cell_type": "markdown",
      "metadata": {},
      "source": [
        "The [*atlasapprox*](https://atlasapprox.readthedocs.io/en/latest/index.html) API provides access to approximated single-cell data across 28 species, including both animals and plants. You can explore data from species such as *Homo sapiens* (humans), *Mus musculus* (mice), *Arabidopsis thaliana* (thale cress), and *Zea mays* (corn). Follow this guide to get started with installation, basic usage, and example queries.\n\n### **Create virtual environment**\n%%\nTo ensure consistent dependencies, setting up a virtual environment is recommended before installing the package. Here's one way to do it:\n\n"
      ]
    },
    {
      "cell_type": "code",
      "execution_count": null,
      "metadata": {
        "collapsed": false
      },
      "outputs": [],
      "source": [
        "python -m venv myenv\nsource myenv/bin/activate\nmyenv\\Scripts\\activate"
      ]
    },
    {
      "cell_type": "markdown",
      "metadata": {},
      "source": [
        "**Installation**\nUse *pip* to install the *atlasapprox* Python package:\n\n"
      ]
    },
    {
      "cell_type": "code",
      "execution_count": null,
      "metadata": {
        "collapsed": false
      },
      "outputs": [],
      "source": [
        "pip install atlasapprox"
      ]
    },
    {
      "cell_type": "markdown",
      "metadata": {},
      "source": [
        "### **Initialize the API**\nImport the *atlasapprox* Python package and create an API object:\n\n"
      ]
    },
    {
      "cell_type": "code",
      "execution_count": null,
      "metadata": {
        "collapsed": false
      },
      "outputs": [],
      "source": [
        "import atlasapprox\napi = atlasapprox.API()"
      ]
    },
    {
      "cell_type": "markdown",
      "metadata": {},
      "source": [
        "## **Getting average gene expression**\nThe `average` function allows you to retrieve the average gene expression data for selected genes within an organism's specific organ.\n\nThe following example shows how to examine the average expression of five genes (*COL13A1*, *COL14A1*, *TGFBI*, *PDGFRA*, *GZMA*) in the human lung:\n%%\nCall API function with params\n\n"
      ]
    },
    {
      "cell_type": "code",
      "execution_count": null,
      "metadata": {
        "collapsed": false
      },
      "outputs": [],
      "source": [
        "avg_gene_expr_lung = api.average(\n    organism = \"h_sapiens\", \n    organ = \"lung\", \n    features = [\"COL13A1\", \"COL14A1\", \"TGFBI\", \"PDGFRA\", \"GZMA\"], \n    measurement_type = \"gene_expression\"\n)"
      ]
    },
    {
      "cell_type": "markdown",
      "metadata": {},
      "source": [
        "Display the result\n\n"
      ]
    },
    {
      "cell_type": "code",
      "execution_count": null,
      "metadata": {
        "collapsed": false
      },
      "outputs": [],
      "source": [
        "avg_gene_expr_lung"
      ]
    },
    {
      "cell_type": "markdown",
      "metadata": {},
      "source": [
        "### **Output**\nThe function returns a *Pandas DataFrame* where:\n* Each row represents a gene.  \n* Each column corresponds to a cell type.\n* The values indicate the average gene expression (measured in counts per ten thousand, or cptt).\n\n## **Start from scratch**\nIf you're starting from scratch, the following steps will help you explore the API.\n1. Ask about available organisms:\n\n"
      ]
    },
    {
      "cell_type": "code",
      "execution_count": null,
      "metadata": {
        "collapsed": false
      },
      "outputs": [],
      "source": [
        "organisms = api.organisms()\nprint(organisms)"
      ]
    },
    {
      "cell_type": "markdown",
      "metadata": {},
      "source": [
        "2. Ask about available organs within your organism of interest:\n\n"
      ]
    },
    {
      "cell_type": "code",
      "execution_count": null,
      "metadata": {
        "collapsed": false
      },
      "outputs": [],
      "source": [
        "organs = api.organs(organism=\"h_sapiens\")\nprint(organs)"
      ]
    },
    {
      "cell_type": "markdown",
      "metadata": {},
      "source": [
        "3. Ask about available cell types within your organism and organ of interest:\n\n"
      ]
    },
    {
      "cell_type": "code",
      "execution_count": null,
      "metadata": {
        "collapsed": false
      },
      "outputs": [],
      "source": [
        "cell_types = api.celltypes(organism=\"h_sapiens\", organ=\"lung\", measurement_type = \"gene_expression\")\nprint(cell_types)"
      ]
    },
    {
      "cell_type": "markdown",
      "metadata": {},
      "source": [
        "## **More tutorials (coming soon)**\n- average gene expression\n- cell type abundance\n- highest measurements by cell type across an organism\n- marker genes\n- gene coexpression\n- gene homologs\n- neighborhoods\n- gene interaction partners\n- ...\n\n## **Conclusion**\n\nThis tutorial provided a quick start guide to use the *atlasapprox* Python package. For more detailed information, refer to the official [documentation](https://atlasapprox.readthedocs.io/en/latest/python/index.html). \n"
      ]
    }
  ],
  "metadata": {
    "kernelspec": {
      "display_name": "Python 3",
      "language": "python",
      "name": "python3"
    },
    "language_info": {
      "codemirror_mode": {
        "name": "ipython",
        "version": 3
      },
      "file_extension": ".py",
      "mimetype": "text/x-python",
      "name": "python",
      "nbconvert_exporter": "python",
      "pygments_lexer": "ipython3",
      "version": "3.12.4"
    }
  },
  "nbformat": 4,
  "nbformat_minor": 0
}